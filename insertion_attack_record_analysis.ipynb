{
 "cells": [
  {
   "cell_type": "code",
   "execution_count": 1,
   "outputs": [],
   "source": [
    "from utils.infura import Infura\n",
    "import pandas as pd\n",
    "import matplotlib.pyplot as plt\n",
    "import numpy as np\n",
    "import os"
   ],
   "metadata": {
    "collapsed": false,
    "pycharm": {
     "name": "#%%\n"
    }
   }
  },
  {
   "cell_type": "markdown",
   "source": [
    "# Show captured insertion attack instances"
   ],
   "metadata": {
    "collapsed": false,
    "pycharm": {
     "name": "#%% md\n"
    }
   }
  },
  {
   "cell_type": "code",
   "execution_count": 2,
   "outputs": [
    {
     "data": {
      "text/plain": "   block_num                                                 t1  \\\n0   14677974  0xd330753e5f94bf33c0ac54da6c4ce43a53b5b2df5a36...   \n1   14682530  0xd5d9b334443406ad1df20880ba5ef1d06a6e2024ac3d...   \n2   14682590  0x04df20a543b5deaf2d1d83b8da9dc32e6c48f5960f08...   \n3   14684035  0x3ea3dc35a255c98d2f047939470e21e06dd7553e9c1a...   \n4   14686390  0xf60ee2fabca7980a188808cca74b5770f14b94bd669d...   \n5   14693663  0x32479fed2411a5de2b1fa21a393a432413065c90ad47...   \n6   14698418  0x22cf430dd8339696ada46d4523e9ff9764077e25b6b3...   \n7   14704927  0x1050ce171a67bba13f09c14ebcf4babdbd3f1278a978...   \n8   14711123  0x635e648971e222eb48f7548b275605b068473c61cca9...   \n9   14713058  0x5273ac89196ba33cae5a886f5268691be8f1f656ac56...   \n\n                                      t1_from  \\\n0  0x4F69c5B694D5A14a0a595703175c478Ec6B2a2Fe   \n1  0x7F2944C87183a924d443985649c997f3320D4E5F   \n2  0x5AA17fC7F2950ECa85376C3A8CB1509e8e4B39dF   \n3  0x16986DC82B24987f66939635137E25836DF2Ea61   \n4  0x5AA17fC7F2950ECa85376C3A8CB1509e8e4B39dF   \n5  0x68CC21f7c777243D1A9c71C2349BfdccD8Ca7B78   \n6  0x19aBe4496214Df53bd60BF05385c2bc28e87A090   \n7  0xdD07249e403979Bd79848c27aa5454C7E66BdEe7   \n8  0xC3A40ea8bE9Ba3aE27FF7C38Cc28b7dd055605bF   \n9  0x16986DC82B24987f66939635137E25836DF2Ea61   \n\n                                        t1_to     t1_gas_cost_wei  \\\n0  0x1d6E8BAC6EA3730825bde4B005ed7B2B39A2932d    4225132949432326   \n1  0x00000000002d383933aa1609F11d0AFA4D5Ea90A    3400782997193414   \n2  0x01FF6318440f7D5553a82294D78262D5f5084EFF    3495533927686571   \n3  0x0000000000D9455CC7EB92D06E00582A982f68fe    3321915029777221   \n4  0x01FF6318440f7D5553a82294D78262D5f5084EFF    7095573266578617   \n5  0xE8c060F8052E07423f71D445277c61AC5138A2e5    9571329558252928   \n6  0x0000000000003f5e74C1ba8A66b48E6f3d71aE82  120253353416155728   \n7  0x000000000000084e91743124a982076C59f10084   10918504679530947   \n8  0xB3fCD22ffD34D75C979D49E2E5fb3a3405644831    3094946631785370   \n9  0x0000000000D9455CC7EB92D06E00582A982f68fe    7588489908040318   \n\n                                                  t2  \\\n0  0x1932fc0dc081de22783d7843a30d4352c477de36c0bd...   \n1  0x57d03a291faa8f0f1f38e835ee8b21b2ef4495baadfc...   \n2  0x18ffd269b6a8f18b901a12b50eba5052738e043442b8...   \n3  0xa57fb984feec887c3c91a5afd44028361c5fdc78faf3...   \n4  0xa966b38303926c2f97ef39e1f58d27689d2ad83209b7...   \n5  0x88812db010b8c2f1d9dffe13f54c7a0b6cdf07be5491...   \n6  0x82fb5f8f09547b885c6131c8969eb5cadb7a6e1c4a77...   \n7  0x7fe0dc0abad0a78ba0af0657b896d88b219d0d213a9c...   \n8  0x2e89af9f61bf54e9fbd4bcdcefb3c2e3ad0372f97fc7...   \n9  0x868a054a889758e52d489b9481cd7df45b938c117de1...   \n\n                                      t2_from  \\\n0  0x4F69c5B694D5A14a0a595703175c478Ec6B2a2Fe   \n1  0x922Af2498aE44a719da89212658d14c67D35F3f8   \n2  0x5AA17fC7F2950ECa85376C3A8CB1509e8e4B39dF   \n3  0x4EcdE565958DD14Ac37DcC9d3d08125f17c7Aaaf   \n4  0x5AA17fC7F2950ECa85376C3A8CB1509e8e4B39dF   \n5  0x68CC21f7c777243D1A9c71C2349BfdccD8Ca7B78   \n6  0x1Afa018d9Be65B0Eac856340d919c4526C168FF8   \n7  0xdD07249e403979Bd79848c27aa5454C7E66BdEe7   \n8  0xC3A40ea8bE9Ba3aE27FF7C38Cc28b7dd055605bF   \n9  0x4EcdE565958DD14Ac37DcC9d3d08125f17c7Aaaf   \n\n                                        t2_to    t2_gas_cost_wei  \\\n0  0x1d6E8BAC6EA3730825bde4B005ed7B2B39A2932d   4196086429075793   \n1  0x00000000002d383933aa1609F11d0AFA4D5Ea90A   3104375842006089   \n2  0x01FF6318440f7D5553a82294D78262D5f5084EFF   9485568584687591   \n3  0x0000000000D9455CC7EB92D06E00582A982f68fe   3003315297639144   \n4  0x01FF6318440f7D5553a82294D78262D5f5084EFF  14978100454200900   \n5  0xE8c060F8052E07423f71D445277c61AC5138A2e5  22973490001903210   \n6  0x0000000000003f5e74C1ba8A66b48E6f3d71aE82   7289642375946591   \n7  0x000000000000084e91743124a982076C59f10084   4850138397685380   \n8  0xB3fCD22ffD34D75C979D49E2E5fb3a3405644831  10959069670148593   \n9  0x0000000000D9455CC7EB92D06E00582A982f68fe   6861794190185935   \n\n        net_gains_wei                                                 tv  \\\n0    2422407081754936  0xbf56cbbdb39fb3b242112e6a2329cced929dedf4cab3...   \n1  136097830307535089  0x14273ef3138453f258c39298fd23b1c7c7c25db8360d...   \n2     197681764203458                                                NaN   \n3   33446080934197715  0x9833329aa36e17bf811534b127fed5c666ad518e8c66...   \n4     336147315578461                                                NaN   \n5     793678664070166  0x3fe2d2dfbd5f4170f6e6545acb753c44edc61b4b19ea...   \n6  176018661437803754  0x1a42d474801fdaf348bd17839f6ce29f71c878f2016f...   \n7  272380068981578099  0x896f7f4d5a1dde6033a09330d3ee20f387ebc8c9bcee...   \n8     214020552842974                                                NaN   \n9   61631187489912755                                                NaN   \n\n   tv_input_amount_wei  \n0         2.000000e+18  \n1         1.495500e+18  \n2                  NaN  \n3         4.985000e+17  \n4                  NaN  \n5         2.500000e+17  \n6         1.000000e+19  \n7         2.244271e+19  \n8                  NaN  \n9                  NaN  ",
      "text/html": "<div>\n<style scoped>\n    .dataframe tbody tr th:only-of-type {\n        vertical-align: middle;\n    }\n\n    .dataframe tbody tr th {\n        vertical-align: top;\n    }\n\n    .dataframe thead th {\n        text-align: right;\n    }\n</style>\n<table border=\"1\" class=\"dataframe\">\n  <thead>\n    <tr style=\"text-align: right;\">\n      <th></th>\n      <th>block_num</th>\n      <th>t1</th>\n      <th>t1_from</th>\n      <th>t1_to</th>\n      <th>t1_gas_cost_wei</th>\n      <th>t2</th>\n      <th>t2_from</th>\n      <th>t2_to</th>\n      <th>t2_gas_cost_wei</th>\n      <th>net_gains_wei</th>\n      <th>tv</th>\n      <th>tv_input_amount_wei</th>\n    </tr>\n  </thead>\n  <tbody>\n    <tr>\n      <th>0</th>\n      <td>14677974</td>\n      <td>0xd330753e5f94bf33c0ac54da6c4ce43a53b5b2df5a36...</td>\n      <td>0x4F69c5B694D5A14a0a595703175c478Ec6B2a2Fe</td>\n      <td>0x1d6E8BAC6EA3730825bde4B005ed7B2B39A2932d</td>\n      <td>4225132949432326</td>\n      <td>0x1932fc0dc081de22783d7843a30d4352c477de36c0bd...</td>\n      <td>0x4F69c5B694D5A14a0a595703175c478Ec6B2a2Fe</td>\n      <td>0x1d6E8BAC6EA3730825bde4B005ed7B2B39A2932d</td>\n      <td>4196086429075793</td>\n      <td>2422407081754936</td>\n      <td>0xbf56cbbdb39fb3b242112e6a2329cced929dedf4cab3...</td>\n      <td>2.000000e+18</td>\n    </tr>\n    <tr>\n      <th>1</th>\n      <td>14682530</td>\n      <td>0xd5d9b334443406ad1df20880ba5ef1d06a6e2024ac3d...</td>\n      <td>0x7F2944C87183a924d443985649c997f3320D4E5F</td>\n      <td>0x00000000002d383933aa1609F11d0AFA4D5Ea90A</td>\n      <td>3400782997193414</td>\n      <td>0x57d03a291faa8f0f1f38e835ee8b21b2ef4495baadfc...</td>\n      <td>0x922Af2498aE44a719da89212658d14c67D35F3f8</td>\n      <td>0x00000000002d383933aa1609F11d0AFA4D5Ea90A</td>\n      <td>3104375842006089</td>\n      <td>136097830307535089</td>\n      <td>0x14273ef3138453f258c39298fd23b1c7c7c25db8360d...</td>\n      <td>1.495500e+18</td>\n    </tr>\n    <tr>\n      <th>2</th>\n      <td>14682590</td>\n      <td>0x04df20a543b5deaf2d1d83b8da9dc32e6c48f5960f08...</td>\n      <td>0x5AA17fC7F2950ECa85376C3A8CB1509e8e4B39dF</td>\n      <td>0x01FF6318440f7D5553a82294D78262D5f5084EFF</td>\n      <td>3495533927686571</td>\n      <td>0x18ffd269b6a8f18b901a12b50eba5052738e043442b8...</td>\n      <td>0x5AA17fC7F2950ECa85376C3A8CB1509e8e4B39dF</td>\n      <td>0x01FF6318440f7D5553a82294D78262D5f5084EFF</td>\n      <td>9485568584687591</td>\n      <td>197681764203458</td>\n      <td>NaN</td>\n      <td>NaN</td>\n    </tr>\n    <tr>\n      <th>3</th>\n      <td>14684035</td>\n      <td>0x3ea3dc35a255c98d2f047939470e21e06dd7553e9c1a...</td>\n      <td>0x16986DC82B24987f66939635137E25836DF2Ea61</td>\n      <td>0x0000000000D9455CC7EB92D06E00582A982f68fe</td>\n      <td>3321915029777221</td>\n      <td>0xa57fb984feec887c3c91a5afd44028361c5fdc78faf3...</td>\n      <td>0x4EcdE565958DD14Ac37DcC9d3d08125f17c7Aaaf</td>\n      <td>0x0000000000D9455CC7EB92D06E00582A982f68fe</td>\n      <td>3003315297639144</td>\n      <td>33446080934197715</td>\n      <td>0x9833329aa36e17bf811534b127fed5c666ad518e8c66...</td>\n      <td>4.985000e+17</td>\n    </tr>\n    <tr>\n      <th>4</th>\n      <td>14686390</td>\n      <td>0xf60ee2fabca7980a188808cca74b5770f14b94bd669d...</td>\n      <td>0x5AA17fC7F2950ECa85376C3A8CB1509e8e4B39dF</td>\n      <td>0x01FF6318440f7D5553a82294D78262D5f5084EFF</td>\n      <td>7095573266578617</td>\n      <td>0xa966b38303926c2f97ef39e1f58d27689d2ad83209b7...</td>\n      <td>0x5AA17fC7F2950ECa85376C3A8CB1509e8e4B39dF</td>\n      <td>0x01FF6318440f7D5553a82294D78262D5f5084EFF</td>\n      <td>14978100454200900</td>\n      <td>336147315578461</td>\n      <td>NaN</td>\n      <td>NaN</td>\n    </tr>\n    <tr>\n      <th>5</th>\n      <td>14693663</td>\n      <td>0x32479fed2411a5de2b1fa21a393a432413065c90ad47...</td>\n      <td>0x68CC21f7c777243D1A9c71C2349BfdccD8Ca7B78</td>\n      <td>0xE8c060F8052E07423f71D445277c61AC5138A2e5</td>\n      <td>9571329558252928</td>\n      <td>0x88812db010b8c2f1d9dffe13f54c7a0b6cdf07be5491...</td>\n      <td>0x68CC21f7c777243D1A9c71C2349BfdccD8Ca7B78</td>\n      <td>0xE8c060F8052E07423f71D445277c61AC5138A2e5</td>\n      <td>22973490001903210</td>\n      <td>793678664070166</td>\n      <td>0x3fe2d2dfbd5f4170f6e6545acb753c44edc61b4b19ea...</td>\n      <td>2.500000e+17</td>\n    </tr>\n    <tr>\n      <th>6</th>\n      <td>14698418</td>\n      <td>0x22cf430dd8339696ada46d4523e9ff9764077e25b6b3...</td>\n      <td>0x19aBe4496214Df53bd60BF05385c2bc28e87A090</td>\n      <td>0x0000000000003f5e74C1ba8A66b48E6f3d71aE82</td>\n      <td>120253353416155728</td>\n      <td>0x82fb5f8f09547b885c6131c8969eb5cadb7a6e1c4a77...</td>\n      <td>0x1Afa018d9Be65B0Eac856340d919c4526C168FF8</td>\n      <td>0x0000000000003f5e74C1ba8A66b48E6f3d71aE82</td>\n      <td>7289642375946591</td>\n      <td>176018661437803754</td>\n      <td>0x1a42d474801fdaf348bd17839f6ce29f71c878f2016f...</td>\n      <td>1.000000e+19</td>\n    </tr>\n    <tr>\n      <th>7</th>\n      <td>14704927</td>\n      <td>0x1050ce171a67bba13f09c14ebcf4babdbd3f1278a978...</td>\n      <td>0xdD07249e403979Bd79848c27aa5454C7E66BdEe7</td>\n      <td>0x000000000000084e91743124a982076C59f10084</td>\n      <td>10918504679530947</td>\n      <td>0x7fe0dc0abad0a78ba0af0657b896d88b219d0d213a9c...</td>\n      <td>0xdD07249e403979Bd79848c27aa5454C7E66BdEe7</td>\n      <td>0x000000000000084e91743124a982076C59f10084</td>\n      <td>4850138397685380</td>\n      <td>272380068981578099</td>\n      <td>0x896f7f4d5a1dde6033a09330d3ee20f387ebc8c9bcee...</td>\n      <td>2.244271e+19</td>\n    </tr>\n    <tr>\n      <th>8</th>\n      <td>14711123</td>\n      <td>0x635e648971e222eb48f7548b275605b068473c61cca9...</td>\n      <td>0xC3A40ea8bE9Ba3aE27FF7C38Cc28b7dd055605bF</td>\n      <td>0xB3fCD22ffD34D75C979D49E2E5fb3a3405644831</td>\n      <td>3094946631785370</td>\n      <td>0x2e89af9f61bf54e9fbd4bcdcefb3c2e3ad0372f97fc7...</td>\n      <td>0xC3A40ea8bE9Ba3aE27FF7C38Cc28b7dd055605bF</td>\n      <td>0xB3fCD22ffD34D75C979D49E2E5fb3a3405644831</td>\n      <td>10959069670148593</td>\n      <td>214020552842974</td>\n      <td>NaN</td>\n      <td>NaN</td>\n    </tr>\n    <tr>\n      <th>9</th>\n      <td>14713058</td>\n      <td>0x5273ac89196ba33cae5a886f5268691be8f1f656ac56...</td>\n      <td>0x16986DC82B24987f66939635137E25836DF2Ea61</td>\n      <td>0x0000000000D9455CC7EB92D06E00582A982f68fe</td>\n      <td>7588489908040318</td>\n      <td>0x868a054a889758e52d489b9481cd7df45b938c117de1...</td>\n      <td>0x4EcdE565958DD14Ac37DcC9d3d08125f17c7Aaaf</td>\n      <td>0x0000000000D9455CC7EB92D06E00582A982f68fe</td>\n      <td>6861794190185935</td>\n      <td>61631187489912755</td>\n      <td>NaN</td>\n      <td>NaN</td>\n    </tr>\n  </tbody>\n</table>\n</div>"
     },
     "execution_count": 2,
     "metadata": {},
     "output_type": "execute_result"
    }
   ],
   "source": [
    "insertion_detection_res_path = \"./temp/insertion_attack/insertion_attack_records.csv\"\n",
    "\n",
    "if not os.path.exists(insertion_detection_res_path):\n",
    "    print(f\"No insertion attack record found\")\n",
    "\n",
    "insertion_log = pd.read_csv(insertion_detection_res_path)\n",
    "insertion_log"
   ],
   "metadata": {
    "collapsed": false,
    "pycharm": {
     "name": "#%%\n"
    }
   }
  },
  {
   "cell_type": "markdown",
   "source": [
    "# Get sampled block stats"
   ],
   "metadata": {
    "collapsed": false,
    "pycharm": {
     "name": "#%% md\n"
    }
   }
  },
  {
   "cell_type": "code",
   "execution_count": 3,
   "outputs": [
    {
     "name": "stdout",
     "output_type": "stream",
     "text": [
      "Number of blocks sampled = 700, total number of transactions analyzed = 128481\n"
     ]
    }
   ],
   "source": [
    "total_transaction_count = 0\n",
    "\n",
    "sampled_block_path = \"./temp/sample_blocks.csv\"\n",
    "\n",
    "if not os.path.exists(sampled_block_path):\n",
    "    print(\"sampled block file does not exists\")\n",
    "\n",
    "sampled_block_df = pd.read_csv(sampled_block_path)\n",
    "\n",
    "# get total number of transactions\n",
    "for block in sampled_block_df[\"block_number\"]:\n",
    "    block = Infura.get_block(blockNum=block, deep=False).encode()\n",
    "    total_transaction_count += len(block[\"transactionHashes\"])\n",
    "\n",
    "print(f'Number of blocks sampled = {len(sampled_block_df)}, total number of transactions analyzed = {total_transaction_count}')\n"
   ],
   "metadata": {
    "collapsed": false,
    "pycharm": {
     "name": "#%%\n"
    }
   }
  },
  {
   "cell_type": "markdown",
   "source": [
    "# Basic stat for identified insertion attacks"
   ],
   "metadata": {
    "collapsed": false,
    "pycharm": {
     "name": "#%% md\n"
    }
   }
  },
  {
   "cell_type": "code",
   "execution_count": 11,
   "outputs": [
    {
     "name": "stdout",
     "output_type": "stream",
     "text": [
      "Number of identified insertion attack = 10, Number of blocks with identified attacks = 10,\n",
      " expected percentage of blocks that may contain insertion attack in a weekly basis = 1.42857%\n",
      "Number of attacks that contains victim transaction tv = 6\n"
     ]
    }
   ],
   "source": [
    "print(f\"Number of identified insertion attack = {len(insertion_log)}, Number of blocks with identified attacks = {len(insertion_log['block_num'].unique())},\\n expected percentage of blocks that may contain insertion attack in a weekly basis = {len(insertion_log['block_num'].unique()) * 100 / len(sampled_block_df) :>.5f}%\")\n",
    "\n",
    "print(f'Number of attacks that contains victim transaction tv = {len(insertion_log[insertion_log[\"tv\"].notna()])}')"
   ],
   "metadata": {
    "collapsed": false,
    "pycharm": {
     "name": "#%%\n"
    }
   }
  },
  {
   "cell_type": "markdown",
   "source": [
    "# Deeper look into identified transactions"
   ],
   "metadata": {
    "collapsed": false,
    "pycharm": {
     "name": "#%% md\n"
    }
   }
  },
  {
   "cell_type": "code",
   "execution_count": 5,
   "outputs": [
    {
     "name": "stdout",
     "output_type": "stream",
     "text": [
      "Number of transactions with victim transaction identified: 6\n",
      "\n",
      "The most profitable attack:\n",
      "block_num                                                       14704927\n",
      "t1                     0x1050ce171a67bba13f09c14ebcf4babdbd3f1278a978...\n",
      "t1_from                       0xdD07249e403979Bd79848c27aa5454C7E66BdEe7\n",
      "t1_to                         0x000000000000084e91743124a982076C59f10084\n",
      "t1_gas_cost_wei                                        10918504679530947\n",
      "t2                     0x7fe0dc0abad0a78ba0af0657b896d88b219d0d213a9c...\n",
      "t2_from                       0xdD07249e403979Bd79848c27aa5454C7E66BdEe7\n",
      "t2_to                         0x000000000000084e91743124a982076C59f10084\n",
      "t2_gas_cost_wei                                         4850138397685380\n",
      "net_gains_wei                                         272380068981578099\n",
      "tv                     0x896f7f4d5a1dde6033a09330d3ee20f387ebc8c9bcee...\n",
      "tv_input_amount_wei                               22442713526900998144.0\n",
      "Name: 7, dtype: object\n",
      "Net gains = 0.2723800689815781 ETH\n",
      "Victim transaction input amount = 22.442713526901 ETH\n"
     ]
    }
   ],
   "source": [
    "t_v_involved_count = len(insertion_log) - insertion_log['tv'].isna().sum()\n",
    "print(f'Number of transactions with victim transaction identified: {t_v_involved_count}\\n')\n",
    "\n",
    "most_profitable = insertion_log.iloc[insertion_log[\"net_gains_wei\"].idxmax()]\n",
    "print(f\"The most profitable attack:\")\n",
    "print(most_profitable)\n",
    "print(f\"Net gains = {most_profitable['net_gains_wei'] / 10**18} ETH\")\n",
    "print(f\"Victim transaction input amount = {most_profitable['tv_input_amount_wei'] / 10**18} ETH\")\n",
    "\n",
    "# ta1: https://etherscan.io/tx/0x1050ce171a67bba13f09c14ebcf4babdbd3f1278a9785fe7470fea78c7c8bbf9\n",
    "# ta2: https://etherscan.io/tx/0x7fe0dc0abad0a78ba0af0657b896d88b219d0d213a9c203fb6c270f20ad24726\n",
    "# tv: https://etherscan.io/tx/0x896f7f4d5a1dde6033a09330d3ee20f387ebc8c9bceeb350fd1e3dffc9cb230b"
   ],
   "metadata": {
    "collapsed": false,
    "pycharm": {
     "name": "#%%\n"
    }
   }
  },
  {
   "cell_type": "markdown",
   "source": [
    "# Most frequent contracts"
   ],
   "metadata": {
    "collapsed": false,
    "pycharm": {
     "name": "#%% md\n"
    }
   }
  },
  {
   "cell_type": "code",
   "execution_count": 6,
   "outputs": [
    {
     "data": {
      "text/plain": "0x01FF6318440f7D5553a82294D78262D5f5084EFF    4\n0x0000000000D9455CC7EB92D06E00582A982f68fe    4\n0x5AA17fC7F2950ECa85376C3A8CB1509e8e4B39dF    4\n0x1d6E8BAC6EA3730825bde4B005ed7B2B39A2932d    2\n0xE8c060F8052E07423f71D445277c61AC5138A2e5    2\n0x0000000000003f5e74C1ba8A66b48E6f3d71aE82    2\n0x000000000000084e91743124a982076C59f10084    2\n0xB3fCD22ffD34D75C979D49E2E5fb3a3405644831    2\n0x4F69c5B694D5A14a0a595703175c478Ec6B2a2Fe    2\n0x00000000002d383933aa1609F11d0AFA4D5Ea90A    2\n0x16986DC82B24987f66939635137E25836DF2Ea61    2\n0x68CC21f7c777243D1A9c71C2349BfdccD8Ca7B78    2\n0x4EcdE565958DD14Ac37DcC9d3d08125f17c7Aaaf    2\n0xdD07249e403979Bd79848c27aa5454C7E66BdEe7    2\n0xC3A40ea8bE9Ba3aE27FF7C38Cc28b7dd055605bF    2\n0x922Af2498aE44a719da89212658d14c67D35F3f8    1\n0x7F2944C87183a924d443985649c997f3320D4E5F    1\n0x19aBe4496214Df53bd60BF05385c2bc28e87A090    1\n0x1Afa018d9Be65B0Eac856340d919c4526C168FF8    1\ndtype: int64"
     },
     "execution_count": 6,
     "metadata": {},
     "output_type": "execute_result"
    }
   ],
   "source": [
    "all_involved_contracts = pd.concat(\n",
    "    [insertion_log[\"t1_to\"], insertion_log['t1_from'], insertion_log[\"t2_from\"], insertion_log[\"t2_to\"]],\n",
    "    ignore_index=True)\n",
    "\n",
    "all_involved_contracts.value_counts()\n",
    "\n"
   ],
   "metadata": {
    "collapsed": false,
    "pycharm": {
     "name": "#%%\n"
    }
   }
  },
  {
   "cell_type": "code",
   "execution_count": 7,
   "outputs": [
    {
     "data": {
      "text/plain": "Text(0, 0.5, '#Occurrence')"
     },
     "execution_count": 7,
     "metadata": {},
     "output_type": "execute_result"
    },
    {
     "data": {
      "text/plain": "<Figure size 432x288 with 1 Axes>",
      "image/png": "[encoded data removed]"
     },
     "metadata": {
      "needs_background": "light"
     },
     "output_type": "display_data"
    }
   ],
   "source": [
    "plt.figure()\n",
    "plt.hist(all_involved_contracts.value_counts(), bins=[0, 1, 2, 3, 4, 5])\n",
    "plt.title(\"Frequency of contract addresses involved in frontrunning attack\")\n",
    "plt.xlabel(\"Frequency\")\n",
    "plt.ylabel(\"#Occurrence\")"
   ],
   "metadata": {
    "collapsed": false,
    "pycharm": {
     "name": "#%%\n"
    }
   }
  },
  {
   "cell_type": "code",
   "execution_count": null,
   "outputs": [],
   "source": [],
   "metadata": {
    "collapsed": false,
    "pycharm": {
     "name": "#%%\n"
    }
   }
  }
 ],
 "metadata": {
  "kernelspec": {
   "display_name": "Python 3",
   "language": "python",
   "name": "python3"
  },
  "language_info": {
   "codemirror_mode": {
    "name": "ipython",
    "version": 2
   },
   "file_extension": ".py",
   "mimetype": "text/x-python",
   "name": "python",
   "nbconvert_exporter": "python",
   "pygments_lexer": "ipython2",
   "version": "2.7.6"
  }
 },
 "nbformat": 4,
 "nbformat_minor": 0
}